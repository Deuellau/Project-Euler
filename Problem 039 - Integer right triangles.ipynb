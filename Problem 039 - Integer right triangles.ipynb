{
 "cells": [
  {
   "cell_type": "markdown",
   "id": "b03a74cd",
   "metadata": {},
   "source": [
    "### Problem 39 - Integer right triangles\n",
    "If p is the perimeter of a right angle triangle with integral length sides, {a,b,c}, there are exactly three solutions for p = 120.\n",
    "\n",
    "{20,48,52}, {24,45,51}, {30,40,50}\n",
    "\n",
    "For which value of p ≤ 1000, is the number of solutions maximised?"
   ]
  },
  {
   "cell_type": "code",
   "execution_count": 2,
   "id": "dcc28c2f",
   "metadata": {},
   "outputs": [
    {
     "data": {
      "text/plain": [
       "840"
      ]
     },
     "execution_count": 2,
     "metadata": {},
     "output_type": "execute_result"
    }
   ],
   "source": [
    "def problemThirtyNine():\n",
    "    max_count = 0\n",
    "    max_p = 0\n",
    "    \n",
    "    for p in range(12, 1001):\n",
    "        count = 0\n",
    "        \n",
    "        for a in range(1, p//2):\n",
    "            for b in range(a, p//2):\n",
    "                c = (a**2 + b**2)**0.5\n",
    "                if a + b + c == p:\n",
    "                    count += 1\n",
    "        \n",
    "        if count > max_count:\n",
    "            max_count = count\n",
    "            max_p = p\n",
    "    \n",
    "    return max_p\n",
    "\n",
    "problemThirtyNine()"
   ]
  }
 ],
 "metadata": {
  "kernelspec": {
   "display_name": "Python 3",
   "language": "python",
   "name": "python3"
  },
  "language_info": {
   "codemirror_mode": {
    "name": "ipython",
    "version": 3
   },
   "file_extension": ".py",
   "mimetype": "text/x-python",
   "name": "python",
   "nbconvert_exporter": "python",
   "pygments_lexer": "ipython3",
   "version": "3.8.8"
  }
 },
 "nbformat": 4,
 "nbformat_minor": 5
}
