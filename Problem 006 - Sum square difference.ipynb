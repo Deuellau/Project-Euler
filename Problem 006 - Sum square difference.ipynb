{
 "cells": [
  {
   "cell_type": "markdown",
   "id": "1e426d8c",
   "metadata": {},
   "source": [
    "### Problem 6 - Sum square difference\n",
    "\n",
    "The sum of the squares of the first ten natural numbers is,\n",
    "1^2 + 2^2 + ... + 10^2 = 385\n",
    "\n",
    "The square of the sum of the first ten natural numbers is,\n",
    "(1 + 2 + ... + 10)^2 = 55^2 = 3025\n",
    "\n",
    "Hence the difference between the sum of the squares of the first ten natural numbers and the square of the sum is \n",
    "3025 - 385 = 2640.\n",
    "\n",
    "Find the difference between the sum of the squares of the first one hundred natural numbers and the square of the sum."
   ]
  },
  {
   "cell_type": "code",
   "execution_count": 1,
   "id": "0c944353",
   "metadata": {},
   "outputs": [
    {
     "data": {
      "text/plain": [
       "25164150"
      ]
     },
     "execution_count": 1,
     "metadata": {},
     "output_type": "execute_result"
    }
   ],
   "source": [
    "def problemSix():\n",
    "    num = 1\n",
    "    sumsquare = 0\n",
    "    \n",
    "    while num <= 100:\n",
    "        sumsquare += num**2\n",
    "        num += 1\n",
    "    \n",
    "    squaresum = sum(range(1,101))**2\n",
    "    \n",
    "    return squaresum - sumsquare\n",
    "    \n",
    "problemSix()"
   ]
  }
 ],
 "metadata": {
  "kernelspec": {
   "display_name": "Python 3",
   "language": "python",
   "name": "python3"
  },
  "language_info": {
   "codemirror_mode": {
    "name": "ipython",
    "version": 3
   },
   "file_extension": ".py",
   "mimetype": "text/x-python",
   "name": "python",
   "nbconvert_exporter": "python",
   "pygments_lexer": "ipython3",
   "version": "3.8.8"
  }
 },
 "nbformat": 4,
 "nbformat_minor": 5
}
