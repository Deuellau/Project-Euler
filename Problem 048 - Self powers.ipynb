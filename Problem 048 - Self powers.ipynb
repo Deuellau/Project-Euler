{
 "cells": [
  {
   "cell_type": "markdown",
   "id": "1b449d84",
   "metadata": {},
   "source": [
    "### Problem 48 - Self powers\n",
    "The series, 1^1 + 2^2 + 3^3 + ... + 10^10 = 10405071317.\n",
    "\n",
    "Find the last ten digits of the series, 1^1 + 2^2 + 3^3 + ... + 1000^1000."
   ]
  },
  {
   "cell_type": "code",
   "execution_count": 1,
   "id": "9549c878",
   "metadata": {},
   "outputs": [
    {
     "data": {
      "text/plain": [
       "'9110846700'"
      ]
     },
     "execution_count": 1,
     "metadata": {},
     "output_type": "execute_result"
    }
   ],
   "source": [
    "def problemFortyEight():\n",
    "    total = 0\n",
    "    \n",
    "    for i in range(1, 1001):\n",
    "        total += i**i\n",
    "    \n",
    "    return str(total)[len(str(total))-10:]\n",
    "  \n",
    "  # return str(total)[::-1][0:10][::-1]  *2nd solution\n",
    "\n",
    "problemFortyEight()"
   ]
  }
 ],
 "metadata": {
  "kernelspec": {
   "display_name": "Python 3",
   "language": "python",
   "name": "python3"
  },
  "language_info": {
   "codemirror_mode": {
    "name": "ipython",
    "version": 3
   },
   "file_extension": ".py",
   "mimetype": "text/x-python",
   "name": "python",
   "nbconvert_exporter": "python",
   "pygments_lexer": "ipython3",
   "version": "3.8.8"
  }
 },
 "nbformat": 4,
 "nbformat_minor": 5
}
