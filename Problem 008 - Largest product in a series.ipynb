{
 "cells": [
  {
   "cell_type": "markdown",
   "id": "87f7a47d",
   "metadata": {},
   "source": [
    "### Problem 4 - Largest palindrome product\n",
    "A palindromic number reads the same both ways. The largest palindrome made from the product of two 2-digit numbers is 9009 = 91 × 99.\n",
    "\n",
    "Find the largest palindrome made from the product of two 3-digit numbers."
   ]
  },
  {
   "cell_type": "code",
   "execution_count": 1,
   "id": "9bfdd286",
   "metadata": {},
   "outputs": [
    {
     "name": "stdout",
     "output_type": "stream",
     "text": [
      "Numbers: [993, 913]. Product: 906609\n"
     ]
    }
   ],
   "source": [
    "def problemFour():\n",
    "    num1 = 999\n",
    "    num2 = 999\n",
    "    maxpalin = 0\n",
    "    \n",
    "    while num1 >= 100:\n",
    "        while num2 >= 100:\n",
    "            if str(num1 * num2) == str(num1 * num2)[::-1]:\n",
    "                if num1 * num2 > maxpalin:\n",
    "                    factors = [num1, num2]\n",
    "                    maxpalin = num1 * num2\n",
    "            num2 -= 1\n",
    "        num2 = 999\n",
    "        num1 -= 1\n",
    "                                                                \n",
    "    print(f'Numbers: {factors}. Product: {maxpalin}')\n",
    "        \n",
    "problemFour()"
   ]
  }
 ],
 "metadata": {
  "kernelspec": {
   "display_name": "Python 3",
   "language": "python",
   "name": "python3"
  },
  "language_info": {
   "codemirror_mode": {
    "name": "ipython",
    "version": 3
   },
   "file_extension": ".py",
   "mimetype": "text/x-python",
   "name": "python",
   "nbconvert_exporter": "python",
   "pygments_lexer": "ipython3",
   "version": "3.8.8"
  }
 },
 "nbformat": 4,
 "nbformat_minor": 5
}
