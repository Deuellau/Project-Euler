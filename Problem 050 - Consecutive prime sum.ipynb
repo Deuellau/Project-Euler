{
 "cells": [
  {
   "cell_type": "markdown",
   "metadata": {
    "id": "s2_xAdMrEKsz"
   },
   "source": [
    "### Problem 50 - Consecutive prime sum\n",
    "\n",
    "The prime 41, can be written as the sum of six consecutive primes:\n",
    "\n",
    "41 = 2 + 3 + 5 + 7 + 11 + 13\n",
    "This is the longest sum of consecutive primes that adds to a prime below one-hundred.\n",
    "\n",
    "The longest sum of consecutive primes below one-thousand that adds to a prime, contains 21 terms, and is equal to 953.\n",
    "\n",
    "Which prime, below one-million, can be written as the sum of the most consecutive primes?"
   ]
  },
  {
   "cell_type": "code",
   "execution_count": 1,
   "metadata": {
    "colab": {
     "base_uri": "https://localhost:8080/"
    },
    "id": "1DIYt4XSEIiR",
    "outputId": "2a0bb7b6-e037-4fb6-a8f0-872e1979dfeb"
   },
   "outputs": [
    {
     "data": {
      "text/plain": [
       "997651"
      ]
     },
     "execution_count": 1,
     "metadata": {},
     "output_type": "execute_result"
    }
   ],
   "source": [
    "def problemFifty():\n",
    "    n = 1000000\n",
    "    is_prime = [True] * (n + 1)\n",
    "    is_prime[0] = is_prime[1] = False\n",
    "    \n",
    "    for i in range(2, int(n**0.5)+1):\n",
    "        if is_prime[i]:\n",
    "            for j in range(i*i, n+1, i):\n",
    "                is_prime[j] = False\n",
    "    \n",
    "    primes = []\n",
    "    for i in range(2, n+1):\n",
    "        if is_prime[i]:\n",
    "            primes.append(i)\n",
    "            \n",
    "\n",
    "    max_sum = 0\n",
    "    max_len = 0\n",
    "    for i in range(len(primes)):\n",
    "        total = primes[i]\n",
    "        for j in range(i+1, len(primes)):\n",
    "            total += primes[j]\n",
    "            if total > n:\n",
    "                break\n",
    "            if is_prime[total] and j-i+1 > max_len:\n",
    "                max_sum = total\n",
    "                max_len = j-i+1\n",
    "\n",
    "    return max_sum\n",
    "\n",
    "problemFifty()"
   ]
  }
 ],
 "metadata": {
  "colab": {
   "provenance": []
  },
  "kernelspec": {
   "display_name": "Python 3",
   "language": "python",
   "name": "python3"
  },
  "language_info": {
   "codemirror_mode": {
    "name": "ipython",
    "version": 3
   },
   "file_extension": ".py",
   "mimetype": "text/x-python",
   "name": "python",
   "nbconvert_exporter": "python",
   "pygments_lexer": "ipython3",
   "version": "3.8.8"
  }
 },
 "nbformat": 4,
 "nbformat_minor": 1
}
