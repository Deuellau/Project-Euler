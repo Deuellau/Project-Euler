{
 "cells": [
  {
   "cell_type": "markdown",
   "id": "d624ef8c",
   "metadata": {},
   "source": [
    "### Problem 20 - Factorial digit sum\n",
    "\n",
    "n! means n × (n − 1) × ... × 3 × 2 × 1\n",
    "\n",
    "For example, 10! = 10 × 9 × ... × 3 × 2 × 1 = 3628800,\n",
    "and the sum of the digits in the number 10! is 3 + 6 + 2 + 8 + 8 + 0 + 0 = 27.\n",
    "\n",
    "Find the sum of the digits in the number 100!"
   ]
  },
  {
   "cell_type": "code",
   "execution_count": 1,
   "id": "d0a1066a",
   "metadata": {},
   "outputs": [
    {
     "data": {
      "text/plain": [
       "648"
      ]
     },
     "execution_count": 1,
     "metadata": {},
     "output_type": "execute_result"
    }
   ],
   "source": [
    "def problemTwenty(num):\n",
    "    factorial = 1\n",
    "    sum = 0\n",
    "    for i in range(1, num+1):\n",
    "        factorial *= i\n",
    "\n",
    "    for i in range(0, len(str(factorial))):\n",
    "        sum += int(str(factorial)[i])\n",
    "\n",
    "    return sum\n",
    "\n",
    "problemTwenty(100)"
   ]
  }
 ],
 "metadata": {
  "kernelspec": {
   "display_name": "Python 3",
   "language": "python",
   "name": "python3"
  },
  "language_info": {
   "codemirror_mode": {
    "name": "ipython",
    "version": 3
   },
   "file_extension": ".py",
   "mimetype": "text/x-python",
   "name": "python",
   "nbconvert_exporter": "python",
   "pygments_lexer": "ipython3",
   "version": "3.8.8"
  }
 },
 "nbformat": 4,
 "nbformat_minor": 5
}
