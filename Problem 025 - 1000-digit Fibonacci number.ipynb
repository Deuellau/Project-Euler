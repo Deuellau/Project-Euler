{
 "cells": [
  {
   "cell_type": "markdown",
   "id": "e71482d5",
   "metadata": {},
   "source": [
    "### Problem 25 - 1000-digit Fibonacci number\n",
    "\n",
    "The Fibonacci sequence is defined by the recurrence relation:\n",
    "\n",
    "Fn = Fn−1 + Fn−2, where F1 = 1 and F2 = 1.\n",
    "Hence the first 12 terms will be:\n",
    "\n",
    "F1 = 1 <br>\n",
    "F2 = 1 <br>\n",
    "F3 = 2 <br>\n",
    "F4 = 3 <br>\n",
    "F5 = 5 <br>\n",
    "F6 = 8 <br>\n",
    "F7 = 13 <br>\n",
    "F8 = 21 <br>\n",
    "F9 = 34 <br>\n",
    "F10 = 55 <br>\n",
    "F11 = 89 <br>\n",
    "F12 = 144 <br>\n",
    "\n",
    "The 12th term, F12, is the first term to contain three digits.\n",
    "\n",
    "What is the index of the first term in the Fibonacci sequence to contain 1000 digits?"
   ]
  },
  {
   "cell_type": "code",
   "execution_count": 1,
   "id": "d4507e3c",
   "metadata": {},
   "outputs": [
    {
     "data": {
      "text/plain": [
       "(4782,\n",
       " 1070066266382758936764980584457396885083683896632151665013235203375314520604694040621889147582489792657804694888177591957484336466672569959512996030461262748092482186144069433051234774442750273781753087579391666192149259186759553966422837148943113074699503439547001985432609723067290192870526447243726117715821825548491120525013201478612965931381792235559657452039506137551467837543229119602129934048260706175397706847068202895486902666185435124521900369480641357447470911707619766945691070098024393439617474103736912503231365532164773697023167755051595173518460579954919410967778373229665796581646513903488154256310184224190259846088000110186255550245493937113651657039447629584714548523425950428582425306083544435428212611008992863795048006894330309773217834864543113205765659868456288616808718693835297350643986297640660000723562917905207051164077614812491885830945940566688339109350944456576357666151619317753792891661581327159616877487983821820492520348473874384736771934512787029218636250627816)"
      ]
     },
     "execution_count": 1,
     "metadata": {},
     "output_type": "execute_result"
    }
   ],
   "source": [
    "def problemTwentyFive():\n",
    "    lst = [1, 1]\n",
    "    idx = 0\n",
    "    \n",
    "    while True:\n",
    "        fib = lst[idx] + lst[idx+1]\n",
    "        lst.append(fib)\n",
    "        \n",
    "        if len(str(fib)) >= 1000:\n",
    "            return idx+3, fib\n",
    "            break\n",
    "        \n",
    "        idx += 1\n",
    "    \n",
    "\n",
    "problemTwentyFive()"
   ]
  }
 ],
 "metadata": {
  "kernelspec": {
   "display_name": "Python 3",
   "language": "python",
   "name": "python3"
  },
  "language_info": {
   "codemirror_mode": {
    "name": "ipython",
    "version": 3
   },
   "file_extension": ".py",
   "mimetype": "text/x-python",
   "name": "python",
   "nbconvert_exporter": "python",
   "pygments_lexer": "ipython3",
   "version": "3.8.8"
  }
 },
 "nbformat": 4,
 "nbformat_minor": 5
}
