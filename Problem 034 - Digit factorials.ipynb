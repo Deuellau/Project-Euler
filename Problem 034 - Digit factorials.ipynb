{
 "cells": [
  {
   "cell_type": "markdown",
   "id": "b03a74cd",
   "metadata": {},
   "source": [
    "### Problem 34 - Digit factorials\n",
    "\n",
    "145 is a curious number, as 1! + 4! + 5! = 1 + 24 + 120 = 145.\n",
    "\n",
    "Find the sum of all numbers which are equal to the sum of the factorial of their digits.\n",
    "\n",
    "Note: As 1! = 1 and 2! = 2 are not sums they are not included."
   ]
  },
  {
   "cell_type": "code",
   "execution_count": 1,
   "id": "dcc28c2f",
   "metadata": {},
   "outputs": [
    {
     "data": {
      "text/plain": [
       "40730"
      ]
     },
     "execution_count": 1,
     "metadata": {},
     "output_type": "execute_result"
    }
   ],
   "source": [
    "import math\n",
    "\n",
    "def problemThirtyFour():\n",
    "    result = 0\n",
    "    total = 0\n",
    "    \n",
    "    for num in range(3, 2540161): #n=7: n * 9! = 10^n - 1\n",
    "        total = 0\n",
    "        \n",
    "        for digit in str(num):\n",
    "            total += math.factorial(int(digit))\n",
    "        if total == num:\n",
    "            result += num\n",
    "            \n",
    "    return result\n",
    "\n",
    "problemThirtyFour()"
   ]
  }
 ],
 "metadata": {
  "kernelspec": {
   "display_name": "Python 3",
   "language": "python",
   "name": "python3"
  },
  "language_info": {
   "codemirror_mode": {
    "name": "ipython",
    "version": 3
   },
   "file_extension": ".py",
   "mimetype": "text/x-python",
   "name": "python",
   "nbconvert_exporter": "python",
   "pygments_lexer": "ipython3",
   "version": "3.8.8"
  }
 },
 "nbformat": 4,
 "nbformat_minor": 5
}
