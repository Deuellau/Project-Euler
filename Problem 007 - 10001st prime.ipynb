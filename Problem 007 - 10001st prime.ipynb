{
 "cells": [
  {
   "cell_type": "markdown",
   "id": "84191cb6",
   "metadata": {},
   "source": [
    "### Problem 7 - 10001st prime\n",
    "\n",
    "By listing the first six prime numbers: 2, 3, 5, 7, 11, and 13, we can see that the 6th prime is 13.\n",
    "\n",
    "What is the 10 001st prime number?"
   ]
  },
  {
   "cell_type": "code",
   "execution_count": 1,
   "id": "d4557637",
   "metadata": {},
   "outputs": [
    {
     "data": {
      "text/plain": [
       "104743"
      ]
     },
     "execution_count": 1,
     "metadata": {},
     "output_type": "execute_result"
    }
   ],
   "source": [
    "def problemSeven():\n",
    "    num = 3\n",
    "    primes = [2]\n",
    "    \n",
    "    while len(primes) <= 10000:\n",
    "        for divisor in range(3,num,2):\n",
    "            if num % divisor == 0:\n",
    "                num += 2\n",
    "                break\n",
    "        else:\n",
    "            primes.append(num)\n",
    "            num += 2\n",
    "    \n",
    "    return primes[10000]\n",
    "    \n",
    "problemSeven()"
   ]
  }
 ],
 "metadata": {
  "kernelspec": {
   "display_name": "Python 3",
   "language": "python",
   "name": "python3"
  },
  "language_info": {
   "codemirror_mode": {
    "name": "ipython",
    "version": 3
   },
   "file_extension": ".py",
   "mimetype": "text/x-python",
   "name": "python",
   "nbconvert_exporter": "python",
   "pygments_lexer": "ipython3",
   "version": "3.8.8"
  }
 },
 "nbformat": 4,
 "nbformat_minor": 5
}
