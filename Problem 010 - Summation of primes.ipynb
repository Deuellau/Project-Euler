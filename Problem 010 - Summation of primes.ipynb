{
 "cells": [
  {
   "cell_type": "markdown",
   "id": "d56e76db",
   "metadata": {},
   "source": [
    "### Problem 10 - Summation of primes\n",
    "\n",
    "The sum of the primes below 10 is 2 + 3 + 5 + 7 = 17.\n",
    "\n",
    "Find the sum of all the primes below two million."
   ]
  },
  {
   "cell_type": "code",
   "execution_count": 1,
   "id": "3ddcffae",
   "metadata": {},
   "outputs": [
    {
     "data": {
      "text/plain": [
       "142913828922"
      ]
     },
     "execution_count": 1,
     "metadata": {},
     "output_type": "execute_result"
    }
   ],
   "source": [
    "def problemTen(n):\n",
    "    # bool values for each number\n",
    "    is_prime = [True] * (n + 1)\n",
    "    is_prime[0] = is_prime[1] = False\n",
    "    \n",
    "    for i in range(2, int(n**0.5)+1):\n",
    "        # marks all i multiples as not prime\n",
    "        if is_prime[i]:\n",
    "            for j in range(i*i, n+1, i):\n",
    "                is_prime[j] = False\n",
    "    \n",
    "    primes = []\n",
    "    for i in range(2, n+1):\n",
    "        if is_prime[i]:\n",
    "            primes.append(i)\n",
    "    \n",
    "    return sum(primes)\n",
    "    \n",
    "problemTen(2000000)"
   ]
  }
 ],
 "metadata": {
  "kernelspec": {
   "display_name": "Python 3",
   "language": "python",
   "name": "python3"
  },
  "language_info": {
   "codemirror_mode": {
    "name": "ipython",
    "version": 3
   },
   "file_extension": ".py",
   "mimetype": "text/x-python",
   "name": "python",
   "nbconvert_exporter": "python",
   "pygments_lexer": "ipython3",
   "version": "3.8.8"
  }
 },
 "nbformat": 4,
 "nbformat_minor": 5
}
