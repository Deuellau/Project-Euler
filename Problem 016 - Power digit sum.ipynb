{
 "cells": [
  {
   "cell_type": "markdown",
   "id": "caa6f291",
   "metadata": {},
   "source": [
    "### Problem 16 - Power digit sum\n",
    "\n",
    "2^15 = 32768 and the sum of its digits is 3 + 2 + 7 + 6 + 8 = 26.\n",
    "\n",
    "What is the sum of the digits of the number 2^1000 ?"
   ]
  },
  {
   "cell_type": "code",
   "execution_count": 1,
   "id": "39b60a0e",
   "metadata": {},
   "outputs": [
    {
     "data": {
      "text/plain": [
       "1366"
      ]
     },
     "execution_count": 1,
     "metadata": {},
     "output_type": "execute_result"
    }
   ],
   "source": [
    "def problemSixteen():\n",
    "    num = 2**1000 \n",
    "    total = 0\n",
    "    \n",
    "    for i in range(0,len(str(num))):\n",
    "        total += int(str(num)[i])\n",
    "    \n",
    "    return total\n",
    "    \n",
    "problemSixteen()"
   ]
  }
 ],
 "metadata": {
  "kernelspec": {
   "display_name": "Python 3",
   "language": "python",
   "name": "python3"
  },
  "language_info": {
   "codemirror_mode": {
    "name": "ipython",
    "version": 3
   },
   "file_extension": ".py",
   "mimetype": "text/x-python",
   "name": "python",
   "nbconvert_exporter": "python",
   "pygments_lexer": "ipython3",
   "version": "3.8.8"
  }
 },
 "nbformat": 4,
 "nbformat_minor": 5
}
