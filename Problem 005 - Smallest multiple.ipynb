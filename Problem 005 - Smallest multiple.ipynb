{
 "cells": [
  {
   "cell_type": "markdown",
   "id": "4ec4b4dc",
   "metadata": {},
   "source": [
    "### Problem 5 - Smallest multiple\n",
    "\n",
    "2520 is the smallest number that can be divided by each of the numbers from 1 to 10 without any remainder.\n",
    "\n",
    "What is the smallest positive number that is evenly divisible by all of the numbers from 1 to 20?"
   ]
  },
  {
   "cell_type": "code",
   "execution_count": 1,
   "id": "0b070de5",
   "metadata": {},
   "outputs": [
    {
     "data": {
      "text/plain": [
       "232792560"
      ]
     },
     "execution_count": 1,
     "metadata": {},
     "output_type": "execute_result"
    }
   ],
   "source": [
    "def problemFive():\n",
    "    divisor = 2\n",
    "    results = []\n",
    "    for num in range(2,21):\n",
    "        factors = []\n",
    "        while divisor <= num:\n",
    "            if num % divisor == 0:\n",
    "                factors.append(divisor)\n",
    "                num /= divisor\n",
    "            else:\n",
    "                divisor += 1\n",
    "        divisor = 2\n",
    "        results.append(factors)\n",
    "    # print(results): [[2], [3], [2, 2], ... , [2, 3, 3], [19], [2, 2, 5]]\n",
    "        \n",
    "    counts = {}\n",
    "    for subarray in results:\n",
    "        for num in subarray:\n",
    "            if num not in counts or subarray.count(num) > counts[num]:\n",
    "                counts[num] = subarray.count(num)\n",
    "    # print(counts): {2: 4, 3: 2, 5: 1, 7: 1, 11: 1, 13: 1, 17: 1, 19: 1}\n",
    "    \n",
    "    output = 1\n",
    "    for key, values in counts.items():\n",
    "        output *= key**values\n",
    "        \n",
    "    return output\n",
    "\n",
    "\n",
    "problemFive()"
   ]
  }
 ],
 "metadata": {
  "kernelspec": {
   "display_name": "Python 3",
   "language": "python",
   "name": "python3"
  },
  "language_info": {
   "codemirror_mode": {
    "name": "ipython",
    "version": 3
   },
   "file_extension": ".py",
   "mimetype": "text/x-python",
   "name": "python",
   "nbconvert_exporter": "python",
   "pygments_lexer": "ipython3",
   "version": "3.8.8"
  }
 },
 "nbformat": 4,
 "nbformat_minor": 5
}
